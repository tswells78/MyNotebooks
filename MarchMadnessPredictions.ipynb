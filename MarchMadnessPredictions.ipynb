{
 "cells": [
  {
   "cell_type": "code",
   "execution_count": 159,
   "metadata": {},
   "outputs": [],
   "source": [
    "import pandas as pd\n",
    "from sklearn.ensemble import RandomForestRegressor\n",
    "from sklearn.model_selection import train_test_split"
   ]
  },
  {
   "cell_type": "code",
   "execution_count": 160,
   "metadata": {},
   "outputs": [],
   "source": [
    "FIELDS_TO_DROP = ['date', 'location','losing_abbr', 'losing_name', \n",
    "                  'winner', 'winning_abbr', 'winning_name', 'home_ranking', \n",
    "                  'away_ranking']"
   ]
  },
  {
   "cell_type": "code",
   "execution_count": 161,
   "metadata": {},
   "outputs": [],
   "source": [
    "data = pd.read_csv('ncaab_data.csv')"
   ]
  },
  {
   "cell_type": "code",
   "execution_count": 162,
   "metadata": {},
   "outputs": [],
   "source": [
    "data = data.drop(data.columns[0], axis=1)\n",
    "data = data.drop('date', axis=1)"
   ]
  },
  {
   "cell_type": "code",
   "execution_count": 163,
   "metadata": {},
   "outputs": [],
   "source": [
    "data = data.dropna()"
   ]
  },
  {
   "cell_type": "code",
   "execution_count": 164,
   "metadata": {},
   "outputs": [
    {
     "data": {
      "text/html": [
       "<div>\n",
       "<style scoped>\n",
       "    .dataframe tbody tr th:only-of-type {\n",
       "        vertical-align: middle;\n",
       "    }\n",
       "\n",
       "    .dataframe tbody tr th {\n",
       "        vertical-align: top;\n",
       "    }\n",
       "\n",
       "    .dataframe thead th {\n",
       "        text-align: right;\n",
       "    }\n",
       "</style>\n",
       "<table border=\"1\" class=\"dataframe\">\n",
       "  <thead>\n",
       "    <tr style=\"text-align: right;\">\n",
       "      <th></th>\n",
       "      <th>away_assist_percentage</th>\n",
       "      <th>away_assists</th>\n",
       "      <th>away_block_percentage</th>\n",
       "      <th>away_blocks</th>\n",
       "      <th>away_defensive_rating</th>\n",
       "      <th>away_defensive_rebound_percentage</th>\n",
       "      <th>away_defensive_rebounds</th>\n",
       "      <th>away_effective_field_goal_percentage</th>\n",
       "      <th>away_field_goal_attempts</th>\n",
       "      <th>away_field_goal_percentage</th>\n",
       "      <th>...</th>\n",
       "      <th>home_two_point_field_goals</th>\n",
       "      <th>home_win_percentage</th>\n",
       "      <th>home_wins</th>\n",
       "      <th>location</th>\n",
       "      <th>losing_abbr</th>\n",
       "      <th>losing_name</th>\n",
       "      <th>pace</th>\n",
       "      <th>winner</th>\n",
       "      <th>winning_abbr</th>\n",
       "      <th>winning_name</th>\n",
       "    </tr>\n",
       "  </thead>\n",
       "  <tbody>\n",
       "    <tr>\n",
       "      <th>149</th>\n",
       "      <td>50.0</td>\n",
       "      <td>7</td>\n",
       "      <td>18.8</td>\n",
       "      <td>6</td>\n",
       "      <td>86.3</td>\n",
       "      <td>62.9</td>\n",
       "      <td>22</td>\n",
       "      <td>0.288</td>\n",
       "      <td>52</td>\n",
       "      <td>0.269</td>\n",
       "      <td>...</td>\n",
       "      <td>11</td>\n",
       "      <td>0.875</td>\n",
       "      <td>7</td>\n",
       "      <td>Ferrell Center, Waco, Texas</td>\n",
       "      <td>ARIZONA</td>\n",
       "      <td>Arizona</td>\n",
       "      <td>73.2</td>\n",
       "      <td>Home</td>\n",
       "      <td>BAYLOR</td>\n",
       "      <td>Baylor</td>\n",
       "    </tr>\n",
       "  </tbody>\n",
       "</table>\n",
       "<p>1 rows × 85 columns</p>\n",
       "</div>"
      ],
      "text/plain": [
       "     away_assist_percentage  away_assists  away_block_percentage  away_blocks  \\\n",
       "149                    50.0             7                   18.8            6   \n",
       "\n",
       "     away_defensive_rating  away_defensive_rebound_percentage  \\\n",
       "149                   86.3                               62.9   \n",
       "\n",
       "     away_defensive_rebounds  away_effective_field_goal_percentage  \\\n",
       "149                       22                                 0.288   \n",
       "\n",
       "     away_field_goal_attempts  away_field_goal_percentage  ...  \\\n",
       "149                        52                       0.269  ...   \n",
       "\n",
       "     home_two_point_field_goals  home_win_percentage  home_wins  \\\n",
       "149                          11                0.875          7   \n",
       "\n",
       "                        location  losing_abbr  losing_name  pace  winner  \\\n",
       "149  Ferrell Center, Waco, Texas      ARIZONA      Arizona  73.2    Home   \n",
       "\n",
       "     winning_abbr  winning_name  \n",
       "149        BAYLOR        Baylor  \n",
       "\n",
       "[1 rows x 85 columns]"
      ]
     },
     "execution_count": 164,
     "metadata": {},
     "output_type": "execute_result"
    }
   ],
   "source": [
    "data.head(1)"
   ]
  },
  {
   "cell_type": "code",
   "execution_count": 165,
   "metadata": {},
   "outputs": [],
   "source": [
    "test = pd.DataFrame(data, columns=data.columns[0:63])"
   ]
  },
  {
   "cell_type": "code",
   "execution_count": 166,
   "metadata": {},
   "outputs": [
    {
     "data": {
      "text/html": [
       "<div>\n",
       "<style scoped>\n",
       "    .dataframe tbody tr th:only-of-type {\n",
       "        vertical-align: middle;\n",
       "    }\n",
       "\n",
       "    .dataframe tbody tr th {\n",
       "        vertical-align: top;\n",
       "    }\n",
       "\n",
       "    .dataframe thead th {\n",
       "        text-align: right;\n",
       "    }\n",
       "</style>\n",
       "<table border=\"1\" class=\"dataframe\">\n",
       "  <thead>\n",
       "    <tr style=\"text-align: right;\">\n",
       "      <th></th>\n",
       "      <th>away_assist_percentage</th>\n",
       "      <th>away_assists</th>\n",
       "      <th>away_block_percentage</th>\n",
       "      <th>away_blocks</th>\n",
       "      <th>away_defensive_rating</th>\n",
       "      <th>away_defensive_rebound_percentage</th>\n",
       "      <th>away_defensive_rebounds</th>\n",
       "      <th>away_effective_field_goal_percentage</th>\n",
       "      <th>away_field_goal_attempts</th>\n",
       "      <th>away_field_goal_percentage</th>\n",
       "      <th>...</th>\n",
       "      <th>home_free_throws</th>\n",
       "      <th>home_losses</th>\n",
       "      <th>home_minutes_played</th>\n",
       "      <th>home_offensive_rating</th>\n",
       "      <th>home_offensive_rebound_percentage</th>\n",
       "      <th>home_offensive_rebounds</th>\n",
       "      <th>home_personal_fouls</th>\n",
       "      <th>home_points</th>\n",
       "      <th>home_ranking</th>\n",
       "      <th>home_steal_percentage</th>\n",
       "    </tr>\n",
       "  </thead>\n",
       "  <tbody>\n",
       "    <tr>\n",
       "      <th>149</th>\n",
       "      <td>50.0</td>\n",
       "      <td>7</td>\n",
       "      <td>18.8</td>\n",
       "      <td>6</td>\n",
       "      <td>86.3</td>\n",
       "      <td>62.9</td>\n",
       "      <td>22</td>\n",
       "      <td>0.288</td>\n",
       "      <td>52</td>\n",
       "      <td>0.269</td>\n",
       "      <td>...</td>\n",
       "      <td>23</td>\n",
       "      <td>1</td>\n",
       "      <td>200</td>\n",
       "      <td>86.3</td>\n",
       "      <td>37.1</td>\n",
       "      <td>13</td>\n",
       "      <td>22</td>\n",
       "      <td>63</td>\n",
       "      <td>18.0</td>\n",
       "      <td>12.3</td>\n",
       "    </tr>\n",
       "  </tbody>\n",
       "</table>\n",
       "<p>1 rows × 63 columns</p>\n",
       "</div>"
      ],
      "text/plain": [
       "     away_assist_percentage  away_assists  away_block_percentage  away_blocks  \\\n",
       "149                    50.0             7                   18.8            6   \n",
       "\n",
       "     away_defensive_rating  away_defensive_rebound_percentage  \\\n",
       "149                   86.3                               62.9   \n",
       "\n",
       "     away_defensive_rebounds  away_effective_field_goal_percentage  \\\n",
       "149                       22                                 0.288   \n",
       "\n",
       "     away_field_goal_attempts  away_field_goal_percentage  ...  \\\n",
       "149                        52                       0.269  ...   \n",
       "\n",
       "     home_free_throws  home_losses  home_minutes_played  \\\n",
       "149                23            1                  200   \n",
       "\n",
       "     home_offensive_rating  home_offensive_rebound_percentage  \\\n",
       "149                   86.3                               37.1   \n",
       "\n",
       "     home_offensive_rebounds  home_personal_fouls  home_points  home_ranking  \\\n",
       "149                       13                   22           63          18.0   \n",
       "\n",
       "     home_steal_percentage  \n",
       "149                   12.3  \n",
       "\n",
       "[1 rows x 63 columns]"
      ]
     },
     "execution_count": 166,
     "metadata": {},
     "output_type": "execute_result"
    }
   ],
   "source": [
    "test.head(1)"
   ]
  },
  {
   "cell_type": "code",
   "execution_count": 167,
   "metadata": {},
   "outputs": [],
   "source": [
    "X = test\n",
    "y = test[['home_points', 'away_points']]"
   ]
  },
  {
   "cell_type": "code",
   "execution_count": 168,
   "metadata": {},
   "outputs": [
    {
     "data": {
      "text/plain": [
       "((46, 63), (46, 2))"
      ]
     },
     "execution_count": 168,
     "metadata": {},
     "output_type": "execute_result"
    }
   ],
   "source": [
    "X.shape, y.shape"
   ]
  },
  {
   "cell_type": "code",
   "execution_count": 169,
   "metadata": {},
   "outputs": [],
   "source": [
    "X_train, X_test, y_train, y_test = train_test_split(X, y)"
   ]
  },
  {
   "cell_type": "code",
   "execution_count": 182,
   "metadata": {},
   "outputs": [
    {
     "name": "stdout",
     "output_type": "stream",
     "text": [
      "[[70 74]\n",
      " [55 50]\n",
      " [57 51]\n",
      " [70 74]\n",
      " [60 55]\n",
      " [74 81]\n",
      " [72 74]\n",
      " [65 70]\n",
      " [56 50]\n",
      " [68 72]\n",
      " [58 54]\n",
      " [68 57]]       home_points  away_points\n",
      "252            87           78\n",
      "3673           47           51\n",
      "425            53           52\n",
      "3960           87           78\n",
      "254            63           58\n",
      "4056           76           83\n",
      "2871           78           74\n",
      "2793           65           71\n",
      "4011           56           47\n",
      "2869           69           71\n",
      "1713           56           55\n",
      "3956           76           51\n"
     ]
    }
   ],
   "source": [
    "parameters = {'bootstrap': False,\n",
    "              'min_samples_leaf': 3,\n",
    "              'n_estimators': 50,\n",
    "              'min_samples_split': 10,\n",
    "              'max_features': 'sqrt',\n",
    "              'max_depth': 6}\n",
    "model = RandomForestRegressor(**parameters)\n",
    "model.fit(X_train, y_train)\n",
    "print(model.predict(X_test).astype(int), y_test)"
   ]
  },
  {
   "cell_type": "code",
   "execution_count": 183,
   "metadata": {},
   "outputs": [
    {
     "name": "stderr",
     "output_type": "stream",
     "text": [
      "/home/myuser/anaconda3/envs/ml_env/lib/python3.7/site-packages/sklearn/base.py:434: FutureWarning: The default value of multioutput (not exposed in score method) will change from 'variance_weighted' to 'uniform_average' in 0.23 to keep consistent with 'metrics.r2_score'. To specify the default value manually and avoid the warning, please either call 'metrics.r2_score' directly or make a custom scorer with 'metrics.make_scorer' (the built-in scorer 'r2' uses multioutput='uniform_average').\n",
      "  \"multioutput='uniform_average').\", FutureWarning)\n"
     ]
    },
    {
     "data": {
      "text/plain": [
       "0.8736641590469656"
      ]
     },
     "execution_count": 183,
     "metadata": {},
     "output_type": "execute_result"
    }
   ],
   "source": [
    "model.score(X,y)"
   ]
  },
  {
   "cell_type": "code",
   "execution_count": null,
   "metadata": {},
   "outputs": [],
   "source": []
  }
 ],
 "metadata": {
  "kernelspec": {
   "display_name": "Python 3",
   "language": "python",
   "name": "python3"
  },
  "language_info": {
   "codemirror_mode": {
    "name": "ipython",
    "version": 3
   },
   "file_extension": ".py",
   "mimetype": "text/x-python",
   "name": "python",
   "nbconvert_exporter": "python",
   "pygments_lexer": "ipython3",
   "version": "3.7.4"
  }
 },
 "nbformat": 4,
 "nbformat_minor": 4
}
