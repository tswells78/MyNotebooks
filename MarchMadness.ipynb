{
  "nbformat": 4,
  "nbformat_minor": 0,
  "metadata": {
    "colab": {
      "name": "MarchMadness.ipynb",
      "provenance": [],
      "collapsed_sections": [],
      "include_colab_link": true
    },
    "kernelspec": {
      "name": "python3",
      "display_name": "Python 3"
    }
  },
  "cells": [
    {
      "cell_type": "markdown",
      "metadata": {
        "id": "view-in-github",
        "colab_type": "text"
      },
      "source": [
        "<a href=\"https://colab.research.google.com/github/tswells78/MyNotebooks/blob/master/MarchMadness.ipynb\" target=\"_parent\"><img src=\"https://colab.research.google.com/assets/colab-badge.svg\" alt=\"Open In Colab\"/></a>"
      ]
    },
    {
      "cell_type": "code",
      "metadata": {
        "id": "MqyH7ggzcQux",
        "colab_type": "code",
        "outputId": "2bfcd469-8b97-4e73-adf4-265824f5a5cc",
        "colab": {
          "base_uri": "https://localhost:8080/"
        }
      },
      "source": [
        "import pandas as pd\n",
        "try:\n",
        "  from sportsreference.ncaab.teams import Teams\n",
        "except ModuleNotFoundError:\n",
        "  !pip install sportsreference\n",
        "  from sportsreference.ncaab.teams import Teams\n",
        "from sklearn.ensemble import RandomForestRegressor\n",
        "from sklearn.model_selection import train_test_split\n",
        "\n",
        "FIELDS_TO_DROP = ['away_points', 'home_points', 'date', 'location',\n",
        "                  'losing_abbr', 'losing_name', 'winner', 'winning_abbr',\n",
        "                  'winning_name', 'home_ranking', 'away_ranking']\n",
        "\n",
        "dataset = pd.DataFrame()\n",
        "teams = Teams()"
      ],
      "execution_count": 2,
      "outputs": [
        {
          "output_type": "stream",
          "text": [
            "Collecting sportsreference\n",
            "\u001b[?25l  Downloading https://files.pythonhosted.org/packages/4a/16/64f2181463018c00df5612cd3319a7cbf4403bd7b5c56ba8db1b9bf21a8d/sportsreference-0.4.7-py2.py3-none-any.whl (373kB)\n",
            "\r\u001b[K     |▉                               | 10kB 18.4MB/s eta 0:00:01\r\u001b[K     |█▊                              | 20kB 1.8MB/s eta 0:00:01\r\u001b[K     |██▋                             | 30kB 2.6MB/s eta 0:00:01\r\u001b[K     |███▌                            | 40kB 1.6MB/s eta 0:00:01\r\u001b[K     |████▍                           | 51kB 2.0MB/s eta 0:00:01\r\u001b[K     |█████▎                          | 61kB 2.4MB/s eta 0:00:01\r\u001b[K     |██████▏                         | 71kB 2.8MB/s eta 0:00:01\r\u001b[K     |███████                         | 81kB 3.2MB/s eta 0:00:01\r\u001b[K     |███████▉                        | 92kB 3.6MB/s eta 0:00:01\r\u001b[K     |████████▊                       | 102kB 2.7MB/s eta 0:00:01\r\u001b[K     |█████████▋                      | 112kB 2.7MB/s eta 0:00:01\r\u001b[K     |██████████▌                     | 122kB 2.7MB/s eta 0:00:01\r\u001b[K     |███████████▍                    | 133kB 2.7MB/s eta 0:00:01\r\u001b[K     |████████████▎                   | 143kB 2.7MB/s eta 0:00:01\r\u001b[K     |█████████████▏                  | 153kB 2.7MB/s eta 0:00:01\r\u001b[K     |██████████████                  | 163kB 2.7MB/s eta 0:00:01\r\u001b[K     |███████████████                 | 174kB 2.7MB/s eta 0:00:01\r\u001b[K     |███████████████▊                | 184kB 2.7MB/s eta 0:00:01\r\u001b[K     |████████████████▋               | 194kB 2.7MB/s eta 0:00:01\r\u001b[K     |█████████████████▌              | 204kB 2.7MB/s eta 0:00:01\r\u001b[K     |██████████████████▍             | 215kB 2.7MB/s eta 0:00:01\r\u001b[K     |███████████████████▎            | 225kB 2.7MB/s eta 0:00:01\r\u001b[K     |████████████████████▏           | 235kB 2.7MB/s eta 0:00:01\r\u001b[K     |█████████████████████           | 245kB 2.7MB/s eta 0:00:01\r\u001b[K     |██████████████████████          | 256kB 2.7MB/s eta 0:00:01\r\u001b[K     |██████████████████████▉         | 266kB 2.7MB/s eta 0:00:01\r\u001b[K     |███████████████████████▋        | 276kB 2.7MB/s eta 0:00:01\r\u001b[K     |████████████████████████▌       | 286kB 2.7MB/s eta 0:00:01\r\u001b[K     |█████████████████████████▍      | 296kB 2.7MB/s eta 0:00:01\r\u001b[K     |██████████████████████████▎     | 307kB 2.7MB/s eta 0:00:01\r\u001b[K     |███████████████████████████▏    | 317kB 2.7MB/s eta 0:00:01\r\u001b[K     |████████████████████████████    | 327kB 2.7MB/s eta 0:00:01\r\u001b[K     |█████████████████████████████   | 337kB 2.7MB/s eta 0:00:01\r\u001b[K     |█████████████████████████████▉  | 348kB 2.7MB/s eta 0:00:01\r\u001b[K     |██████████████████████████████▊ | 358kB 2.7MB/s eta 0:00:01\r\u001b[K     |███████████████████████████████▌| 368kB 2.7MB/s eta 0:00:01\r\u001b[K     |████████████████████████████████| 378kB 2.7MB/s \n",
            "\u001b[?25hRequirement already satisfied: requests>=2.18.4 in /usr/local/lib/python3.6/dist-packages (from sportsreference) (2.21.0)\n",
            "Collecting pyquery>=1.4.0\n",
            "  Downloading https://files.pythonhosted.org/packages/78/43/95d42e386c61cb639d1a0b94f0c0b9f0b7d6b981ad3c043a836c8b5bc68b/pyquery-1.4.1-py2.py3-none-any.whl\n",
            "Requirement already satisfied: pandas>=0.24.1 in /usr/local/lib/python3.6/dist-packages (from sportsreference) (0.25.3)\n",
            "Requirement already satisfied: chardet<3.1.0,>=3.0.2 in /usr/local/lib/python3.6/dist-packages (from requests>=2.18.4->sportsreference) (3.0.4)\n",
            "Requirement already satisfied: certifi>=2017.4.17 in /usr/local/lib/python3.6/dist-packages (from requests>=2.18.4->sportsreference) (2019.11.28)\n",
            "Requirement already satisfied: idna<2.9,>=2.5 in /usr/local/lib/python3.6/dist-packages (from requests>=2.18.4->sportsreference) (2.8)\n",
            "Requirement already satisfied: urllib3<1.25,>=1.21.1 in /usr/local/lib/python3.6/dist-packages (from requests>=2.18.4->sportsreference) (1.24.3)\n",
            "Requirement already satisfied: lxml>=2.1 in /usr/local/lib/python3.6/dist-packages (from pyquery>=1.4.0->sportsreference) (4.2.6)\n",
            "Collecting cssselect>0.7.9\n",
            "  Downloading https://files.pythonhosted.org/packages/3b/d4/3b5c17f00cce85b9a1e6f91096e1cc8e8ede2e1be8e96b87ce1ed09e92c5/cssselect-1.1.0-py2.py3-none-any.whl\n",
            "Requirement already satisfied: pytz>=2017.2 in /usr/local/lib/python3.6/dist-packages (from pandas>=0.24.1->sportsreference) (2018.9)\n",
            "Requirement already satisfied: python-dateutil>=2.6.1 in /usr/local/lib/python3.6/dist-packages (from pandas>=0.24.1->sportsreference) (2.6.1)\n",
            "Requirement already satisfied: numpy>=1.13.3 in /usr/local/lib/python3.6/dist-packages (from pandas>=0.24.1->sportsreference) (1.17.4)\n",
            "Requirement already satisfied: six>=1.5 in /usr/local/lib/python3.6/dist-packages (from python-dateutil>=2.6.1->pandas>=0.24.1->sportsreference) (1.12.0)\n",
            "Installing collected packages: cssselect, pyquery, sportsreference\n",
            "Successfully installed cssselect-1.1.0 pyquery-1.4.1 sportsreference-0.4.7\n"
          ],
          "name": "stdout"
        }
      ]
    },
    {
      "cell_type": "code",
      "metadata": {
        "id": "DOEk6TbkMwjL",
        "colab_type": "code",
        "colab": {}
      },
      "source": [
        "for team in teams:\n",
        "    dataset = pd.concat([dataset, team.schedule.dataframe_extended])"
      ],
      "execution_count": 0,
      "outputs": []
    },
    {
      "cell_type": "code",
      "metadata": {
        "id": "I2Zo7W6OK-_J",
        "colab_type": "code",
        "colab": {}
      },
      "source": [
        "X = dataset.drop(FIELDS_TO_DROP, 1).dropna().drop_duplicates()\n",
        "y = dataset[['home_points', 'away_points']].values\n",
        "X_train, X_test, y_train, y_test = train_test_split(X, y)"
      ],
      "execution_count": 0,
      "outputs": []
    },
    {
      "cell_type": "code",
      "metadata": {
        "id": "mmmO4fvsM30b",
        "colab_type": "code",
        "colab": {}
      },
      "source": [
        "parameters = {'bootstrap': False,\n",
        "              'min_samples_leaf': 3,\n",
        "              'n_estimators': 50,\n",
        "              'min_samples_split': 10,\n",
        "              'max_features': 'sqrt',\n",
        "              'max_depth': 6}\n",
        "model = RandomForestRegressor(**parameters)\n",
        "model.fit(X_train, y_train)\n",
        "print(model.predict(X_test).astype(int), y_test)"
      ],
      "execution_count": 0,
      "outputs": []
    }
  ]
}