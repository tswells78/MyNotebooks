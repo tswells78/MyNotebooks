{
 "cells": [
  {
   "cell_type": "code",
   "execution_count": null,
   "metadata": {
    "colab": {},
    "colab_type": "code",
    "id": "MqyH7ggzcQux"
   },
   "outputs": [],
   "source": [
    "import pandas as pd\n",
    "try:\n",
    "  from sportsreference.ncaab.teams import Teams\n",
    "except ModuleNotFoundError:\n",
    "  !pip install sportsreference\n",
    "  from sportsreference.ncaab.teams import Teams\n",
    "from sklearn.ensemble import RandomForestRegressor\n",
    "from sklearn.model_selection import train_test_split"
   ]
  },
  {
   "cell_type": "code",
   "execution_count": null,
   "metadata": {},
   "outputs": [],
   "source": [
    "FIELDS_TO_DROP = ['away_points', 'home_points', 'date', 'location',\n",
    "                  'losing_abbr', 'losing_name', 'winner', 'winning_abbr',\n",
    "                  'winning_name', 'home_ranking', 'away_ranking']\n",
    "\n",
    "%time dataset = pd.DataFrame()"
   ]
  },
  {
   "cell_type": "code",
   "execution_count": null,
   "metadata": {},
   "outputs": [],
   "source": [
    "%time teams = Teams()"
   ]
  },
  {
   "cell_type": "code",
   "execution_count": null,
   "metadata": {
    "colab": {
     "base_uri": "https://localhost:8080/",
     "height": 136
    },
    "colab_type": "code",
    "id": "DOEk6TbkMwjL",
    "outputId": "a4a9c6cd-1fc2-459d-a047-2eac655d14b5",
    "scrolled": true
   },
   "outputs": [],
   "source": [
    "for team in teams:\n",
    "    %time dataset = pd.concat([dataset, team.schedule.dataframe_extended])\n",
    "    print(dataset.shape)"
   ]
  },
  {
   "cell_type": "code",
   "execution_count": null,
   "metadata": {},
   "outputs": [],
   "source": [
    "dataset.to_csv('ncaab_data.csv')"
   ]
  },
  {
   "cell_type": "code",
   "execution_count": null,
   "metadata": {},
   "outputs": [],
   "source": [
    "data = pd.read_csv('ncaab_data.csv')"
   ]
  },
  {
   "cell_type": "code",
   "execution_count": null,
   "metadata": {
    "colab": {},
    "colab_type": "code",
    "id": "I2Zo7W6OK-_J"
   },
   "outputs": [],
   "source": [
    "X = data.drop(FIELDS_TO_DROP, 1).dropna().drop_duplicates()\n",
    "y = dataset[['home_points', 'away_points']].values\n",
    "X_train, X_test, y_train, y_test = train_test_split(X, y)"
   ]
  },
  {
   "cell_type": "code",
   "execution_count": null,
   "metadata": {
    "colab": {},
    "colab_type": "code",
    "id": "mmmO4fvsM30b"
   },
   "outputs": [],
   "source": [
    "parameters = {'bootstrap': False,\n",
    "              'min_samples_leaf': 3,\n",
    "              'n_estimators': 50,\n",
    "              'min_samples_split': 10,\n",
    "              'max_features': 'sqrt',\n",
    "              'max_depth': 6}\n",
    "model = RandomForestRegressor(**parameters)\n",
    "model.fit(X_train, y_train)\n",
    "print(model.predict(X_test).astype(int), y_test)"
   ]
  },
  {
   "cell_type": "code",
   "execution_count": null,
   "metadata": {
    "colab": {},
    "colab_type": "code",
    "id": "JzJlKvyfWCOr"
   },
   "outputs": [],
   "source": []
  },
  {
   "cell_type": "code",
   "execution_count": null,
   "metadata": {},
   "outputs": [],
   "source": []
  }
 ],
 "metadata": {
  "colab": {
   "collapsed_sections": [],
   "name": "MarchMadness.ipynb",
   "provenance": []
  },
  "kernelspec": {
   "display_name": "Python 3",
   "language": "python",
   "name": "python3"
  },
  "language_info": {
   "codemirror_mode": {
    "name": "ipython",
    "version": 3
   },
   "file_extension": ".py",
   "mimetype": "text/x-python",
   "name": "python",
   "nbconvert_exporter": "python",
   "pygments_lexer": "ipython3",
   "version": "3.7.4"
  }
 },
 "nbformat": 4,
 "nbformat_minor": 4
}
