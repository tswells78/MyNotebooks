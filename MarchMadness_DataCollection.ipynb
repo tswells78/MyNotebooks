{
  "nbformat": 4,
  "nbformat_minor": 0,
  "metadata": {
    "colab": {
      "name": "MarchMadness.ipynb",
      "provenance": [],
      "collapsed_sections": [],
      "include_colab_link": true
    },
    "kernelspec": {
      "display_name": "Python 3",
      "language": "python",
      "name": "python3"
    },
    "language_info": {
      "codemirror_mode": {
        "name": "ipython",
        "version": 3
      },
      "file_extension": ".py",
      "mimetype": "text/x-python",
      "name": "python",
      "nbconvert_exporter": "python",
      "pygments_lexer": "ipython3",
      "version": "3.7.4"
    }
  },
  "cells": [
    {
      "cell_type": "markdown",
      "metadata": {
        "id": "view-in-github",
        "colab_type": "text"
      },
      "source": [
        "<a href=\"https://colab.research.google.com/github/tswells78/MyNotebooks/blob/master/MarchMadness_DataCollection.ipynb\" target=\"_parent\"><img src=\"https://colab.research.google.com/assets/colab-badge.svg\" alt=\"Open In Colab\"/></a>"
      ]
    },
    {
      "cell_type": "code",
      "metadata": {
        "colab_type": "code",
        "id": "MqyH7ggzcQux",
        "colab": {}
      },
      "source": [
        "import pandas as pd\n",
        "try:\n",
        "  from sportsreference.ncaab.teams import Teams\n",
        "except ModuleNotFoundError:\n",
        "  !pip install sportsreference\n",
        "  from sportsreference.ncaab.teams import Teams\n",
        "from sklearn.ensemble import RandomForestRegressor\n",
        "from sklearn.model_selection import train_test_split"
      ],
      "execution_count": 0,
      "outputs": []
    },
    {
      "cell_type": "code",
      "metadata": {
        "id": "A_nBenT9U3b9",
        "colab_type": "code",
        "colab": {}
      },
      "source": [
        "%time dataset = pd.DataFrame()"
      ],
      "execution_count": 0,
      "outputs": []
    },
    {
      "cell_type": "code",
      "metadata": {
        "id": "l7ERDIq6U3cA",
        "colab_type": "code",
        "colab": {}
      },
      "source": [
        "%time teams = Teams()"
      ],
      "execution_count": 0,
      "outputs": []
    },
    {
      "cell_type": "code",
      "metadata": {
        "colab_type": "code",
        "id": "DOEk6TbkMwjL",
        "scrolled": true,
        "colab": {}
      },
      "source": [
        "for team in teams:\n",
        "    %time dataset = pd.concat([dataset, team.schedule.dataframe_extended])\n",
        "    print(dataset.shape)"
      ],
      "execution_count": 0,
      "outputs": []
    },
    {
      "cell_type": "code",
      "metadata": {
        "id": "TJ7TchRpU3cP",
        "colab_type": "code",
        "colab": {}
      },
      "source": [
        "dataset.to_csv('ncaab_data.csv')"
      ],
      "execution_count": 0,
      "outputs": []
    },
    {
      "cell_type": "code",
      "metadata": {
        "colab_type": "code",
        "id": "JzJlKvyfWCOr",
        "colab": {}
      },
      "source": [
        ""
      ],
      "execution_count": 0,
      "outputs": []
    },
    {
      "cell_type": "code",
      "metadata": {
        "id": "3hd8eBwIU3cr",
        "colab_type": "code",
        "colab": {}
      },
      "source": [
        ""
      ],
      "execution_count": 0,
      "outputs": []
    }
  ]
}