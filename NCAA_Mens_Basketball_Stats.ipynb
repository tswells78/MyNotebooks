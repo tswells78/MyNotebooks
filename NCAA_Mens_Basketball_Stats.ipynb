{
  "nbformat": 4,
  "nbformat_minor": 0,
  "metadata": {
    "colab": {
      "name": "NCAA_Mens_Basketball_Stats.ipynb",
      "provenance": [],
      "collapsed_sections": [],
      "include_colab_link": true
    },
    "kernelspec": {
      "name": "python3",
      "display_name": "Python 3"
    }
  },
  "cells": [
    {
      "cell_type": "markdown",
      "metadata": {
        "id": "view-in-github",
        "colab_type": "text"
      },
      "source": [
        "<a href=\"https://colab.research.google.com/github/tswells78/MyNotebooks/blob/master/NCAA_Mens_Basketball_Stats.ipynb\" target=\"_parent\"><img src=\"https://colab.research.google.com/assets/colab-badge.svg\" alt=\"Open In Colab\"/></a>"
      ]
    },
    {
      "cell_type": "code",
      "metadata": {
        "id": "MqyH7ggzcQux",
        "colab_type": "code",
        "colab": {}
      },
      "source": [
        "import pandas as pd\n",
        "import numpy as np\n",
        "try:\n",
        "  import sportsreference\n",
        "except ModuleNotFoundError:\n",
        "  !pip install sportsreference\n",
        "from sportsreference.ncaab.teams import Teams\n",
        "from sportsreference.ncaab.schedule import Schedule\n",
        "from sportsreference.ncaab.rankings import Rankings\n",
        "from sklearn.ensemble import RandomForestRegressor\n",
        "from sklearn.model_selection import train_test_split"
      ],
      "execution_count": 0,
      "outputs": []
    },
    {
      "cell_type": "code",
      "metadata": {
        "id": "XM5VJfhBUV0z",
        "colab_type": "code",
        "colab": {}
      },
      "source": [
        "teams = Teams(year='2018')"
      ],
      "execution_count": 0,
      "outputs": []
    },
    {
      "cell_type": "code",
      "metadata": {
        "id": "sf9JLpBmZunl",
        "colab_type": "code",
        "colab": {}
      },
      "source": [
        "team_by_offensive_rating = []"
      ],
      "execution_count": 0,
      "outputs": []
    },
    {
      "cell_type": "code",
      "metadata": {
        "id": "AZu8-laoZ9C4",
        "colab_type": "code",
        "colab": {}
      },
      "source": [
        "for t in teams:\n",
        "  team_by_offensive_rating.append((t.name, t.offensive_rating, t.wins, t.losses, t.strength_of_schedule))"
      ],
      "execution_count": 0,
      "outputs": []
    },
    {
      "cell_type": "code",
      "metadata": {
        "id": "9Wu9OlojeF3q",
        "colab_type": "code",
        "colab": {}
      },
      "source": [
        "team_by_offensive_rating = sorted(team_by_offensive_rating,  key=lambda x: x[1], reverse=True)"
      ],
      "execution_count": 0,
      "outputs": []
    },
    {
      "cell_type": "code",
      "metadata": {
        "id": "MTLZCoysercd",
        "colab_type": "code",
        "colab": {}
      },
      "source": [
        "top_68_teams = team_by_offensive_rating[0:68]"
      ],
      "execution_count": 0,
      "outputs": []
    },
    {
      "cell_type": "code",
      "metadata": {
        "id": "LsLYoho6erfK",
        "colab_type": "code",
        "outputId": "28d7b4ff-9976-4668-eb0c-d609f5f88da8",
        "colab": {
          "base_uri": "https://localhost:8080/",
          "height": 187
        }
      },
      "source": [
        "top_68_teams[0:10]"
      ],
      "execution_count": 124,
      "outputs": [
        {
          "output_type": "execute_result",
          "data": {
            "text/plain": [
              "[('Villanova', 122.2, 36, 4, 10.24),\n",
              " (\"Saint Mary's (CA)\", 119.8, 30, 6, 0.33),\n",
              " ('Duke', 118.5, 29, 8, 9.71),\n",
              " ('Gonzaga', 118.0, 32, 5, 2.59),\n",
              " ('William & Mary', 117.6, 19, 12, -1.32),\n",
              " ('Purdue', 117.5, 30, 7, 8.74),\n",
              " ('Wichita State', 117.3, 25, 8, 5.46),\n",
              " ('Michigan State', 117.2, 30, 5, 7.1),\n",
              " ('Arizona', 115.6, 27, 8, 6.84),\n",
              " ('Davidson', 115.6, 21, 12, 2.57)]"
            ]
          },
          "metadata": {
            "tags": []
          },
          "execution_count": 124
        }
      ]
    },
    {
      "cell_type": "code",
      "metadata": {
        "id": "U9e2ReN4m33E",
        "colab_type": "code",
        "colab": {}
      },
      "source": [
        "vill_sched = Schedule('Villanova', year='2019')"
      ],
      "execution_count": 0,
      "outputs": []
    },
    {
      "cell_type": "code",
      "metadata": {
        "id": "iTkxiEQjlg43",
        "colab_type": "code",
        "outputId": "32a297bf-5496-4394-b4ab-31b6a2486282",
        "colab": {
          "base_uri": "https://localhost:8080/",
          "height": 442
        }
      },
      "source": [
        "vill_sched.dataframe.head()"
      ],
      "execution_count": 148,
      "outputs": [
        {
          "output_type": "execute_result",
          "data": {
            "text/html": [
              "<div>\n",
              "<style scoped>\n",
              "    .dataframe tbody tr th:only-of-type {\n",
              "        vertical-align: middle;\n",
              "    }\n",
              "\n",
              "    .dataframe tbody tr th {\n",
              "        vertical-align: top;\n",
              "    }\n",
              "\n",
              "    .dataframe thead th {\n",
              "        text-align: right;\n",
              "    }\n",
              "</style>\n",
              "<table border=\"1\" class=\"dataframe\">\n",
              "  <thead>\n",
              "    <tr style=\"text-align: right;\">\n",
              "      <th></th>\n",
              "      <th>arena</th>\n",
              "      <th>boxscore_index</th>\n",
              "      <th>date</th>\n",
              "      <th>datetime</th>\n",
              "      <th>game</th>\n",
              "      <th>location</th>\n",
              "      <th>opponent_abbr</th>\n",
              "      <th>opponent_conference</th>\n",
              "      <th>opponent_name</th>\n",
              "      <th>opponent_rank</th>\n",
              "      <th>overtimes</th>\n",
              "      <th>points_against</th>\n",
              "      <th>points_for</th>\n",
              "      <th>result</th>\n",
              "      <th>season_losses</th>\n",
              "      <th>season_wins</th>\n",
              "      <th>streak</th>\n",
              "      <th>time</th>\n",
              "      <th>type</th>\n",
              "    </tr>\n",
              "  </thead>\n",
              "  <tbody>\n",
              "    <tr>\n",
              "      <th>2018-11-06-19-villanova</th>\n",
              "      <td>Finneran Pavilion</td>\n",
              "      <td>2018-11-06-19-villanova</td>\n",
              "      <td>Tue, Nov 6, 2018</td>\n",
              "      <td>2018-11-06 19:00:00</td>\n",
              "      <td>1</td>\n",
              "      <td>Home</td>\n",
              "      <td>morgan-state</td>\n",
              "      <td>MEAC</td>\n",
              "      <td>Morgan State</td>\n",
              "      <td>None</td>\n",
              "      <td>0</td>\n",
              "      <td>77</td>\n",
              "      <td>100</td>\n",
              "      <td>Win</td>\n",
              "      <td>0</td>\n",
              "      <td>1</td>\n",
              "      <td>W 1</td>\n",
              "      <td>7:00p</td>\n",
              "      <td>Reg</td>\n",
              "    </tr>\n",
              "    <tr>\n",
              "      <th>2018-11-10-20-villanova</th>\n",
              "      <td>Wells Fargo Center</td>\n",
              "      <td>2018-11-10-20-villanova</td>\n",
              "      <td>Sat, Nov 10, 2018</td>\n",
              "      <td>2018-11-10 20:00:00</td>\n",
              "      <td>2</td>\n",
              "      <td>Home</td>\n",
              "      <td>quinnipiac</td>\n",
              "      <td>MAAC</td>\n",
              "      <td>Quinnipiac</td>\n",
              "      <td>None</td>\n",
              "      <td>0</td>\n",
              "      <td>53</td>\n",
              "      <td>86</td>\n",
              "      <td>Win</td>\n",
              "      <td>0</td>\n",
              "      <td>2</td>\n",
              "      <td>W 2</td>\n",
              "      <td>8:00p</td>\n",
              "      <td>Reg</td>\n",
              "    </tr>\n",
              "    <tr>\n",
              "      <th>2018-11-14-18-villanova</th>\n",
              "      <td>Finneran Pavilion</td>\n",
              "      <td>2018-11-14-18-villanova</td>\n",
              "      <td>Wed, Nov 14, 2018</td>\n",
              "      <td>2018-11-14 18:30:00</td>\n",
              "      <td>3</td>\n",
              "      <td>Home</td>\n",
              "      <td>michigan</td>\n",
              "      <td>Big Ten</td>\n",
              "      <td>Michigan</td>\n",
              "      <td>18</td>\n",
              "      <td>0</td>\n",
              "      <td>73</td>\n",
              "      <td>46</td>\n",
              "      <td>Loss</td>\n",
              "      <td>1</td>\n",
              "      <td>2</td>\n",
              "      <td>L 1</td>\n",
              "      <td>6:30p</td>\n",
              "      <td>Reg</td>\n",
              "    </tr>\n",
              "    <tr>\n",
              "      <th>2018-11-17-17-villanova</th>\n",
              "      <td>Finneran Pavilion</td>\n",
              "      <td>2018-11-17-17-villanova</td>\n",
              "      <td>Sat, Nov 17, 2018</td>\n",
              "      <td>2018-11-17 17:00:00</td>\n",
              "      <td>4</td>\n",
              "      <td>Home</td>\n",
              "      <td>furman</td>\n",
              "      <td>Southern</td>\n",
              "      <td>Furman</td>\n",
              "      <td>None</td>\n",
              "      <td>1</td>\n",
              "      <td>76</td>\n",
              "      <td>68</td>\n",
              "      <td>Loss</td>\n",
              "      <td>2</td>\n",
              "      <td>2</td>\n",
              "      <td>L 2</td>\n",
              "      <td>5:00p</td>\n",
              "      <td>Reg</td>\n",
              "    </tr>\n",
              "    <tr>\n",
              "      <th>2018-11-22-13-canisius</th>\n",
              "      <td>HP Field House</td>\n",
              "      <td>2018-11-22-13-canisius</td>\n",
              "      <td>Thu, Nov 22, 2018</td>\n",
              "      <td>2018-11-22 13:30:00</td>\n",
              "      <td>5</td>\n",
              "      <td>Neutral</td>\n",
              "      <td>canisius</td>\n",
              "      <td>MAAC</td>\n",
              "      <td>Canisius</td>\n",
              "      <td>None</td>\n",
              "      <td>0</td>\n",
              "      <td>56</td>\n",
              "      <td>83</td>\n",
              "      <td>Win</td>\n",
              "      <td>2</td>\n",
              "      <td>3</td>\n",
              "      <td>W 1</td>\n",
              "      <td>1:30p</td>\n",
              "      <td>Reg</td>\n",
              "    </tr>\n",
              "  </tbody>\n",
              "</table>\n",
              "</div>"
            ],
            "text/plain": [
              "                                      arena  ... type\n",
              "2018-11-06-19-villanova   Finneran Pavilion  ...  Reg\n",
              "2018-11-10-20-villanova  Wells Fargo Center  ...  Reg\n",
              "2018-11-14-18-villanova   Finneran Pavilion  ...  Reg\n",
              "2018-11-17-17-villanova   Finneran Pavilion  ...  Reg\n",
              "2018-11-22-13-canisius       HP Field House  ...  Reg\n",
              "\n",
              "[5 rows x 19 columns]"
            ]
          },
          "metadata": {
            "tags": []
          },
          "execution_count": 148
        }
      ]
    },
    {
      "cell_type": "code",
      "metadata": {
        "id": "IulIZRm0mO-x",
        "colab_type": "code",
        "colab": {}
      },
      "source": [
        "results = []\n",
        "for game in vill_sched:\n",
        "  game_num = game.game\n",
        "  opponent = game.opponent_name\n",
        "  result = game.result\n",
        "  points_for = game.points_for\n",
        "  points_against = game.points_against\n",
        "  date = game.date\n",
        "  results.append([game_num, opponent, result, points_for, points_against, date])"
      ],
      "execution_count": 0,
      "outputs": []
    },
    {
      "cell_type": "code",
      "metadata": {
        "id": "rAVbbJCDnjJ6",
        "colab_type": "code",
        "colab": {}
      },
      "source": [
        "vill_results = pd.DataFrame(results, columns=['Game', 'Opponent', 'Result', 'Point For', 'Point Against', 'Date'])\n",
        "vill_results.set_index('Game')\n",
        "vill_results = vill_results.fillna('Not Played')"
      ],
      "execution_count": 0,
      "outputs": []
    },
    {
      "cell_type": "code",
      "metadata": {
        "id": "_8GUfdg6sv9L",
        "colab_type": "code",
        "colab": {
          "base_uri": "https://localhost:8080/",
          "height": 51
        },
        "outputId": "f13c33f7-c694-470a-f465-f949049f7822"
      },
      "source": [
        "vill_results.loc[vill_results['Point For'] == 'Not Played', 'Result'] = ''"
      ],
      "execution_count": 151,
      "outputs": [
        {
          "output_type": "stream",
          "text": [
            "/usr/local/lib/python3.6/dist-packages/pandas/core/ops/__init__.py:1115: FutureWarning: elementwise comparison failed; returning scalar instead, but in the future will perform elementwise comparison\n",
            "  result = method(y)\n"
          ],
          "name": "stderr"
        }
      ]
    },
    {
      "cell_type": "code",
      "metadata": {
        "id": "3FevDnvjbrpa",
        "colab_type": "code",
        "colab": {
          "base_uri": "https://localhost:8080/",
          "height": 68
        },
        "outputId": "2ccb981e-6665-447a-8a9d-cac379210e5b"
      },
      "source": [
        "vill_results.Result.value_counts()"
      ],
      "execution_count": 152,
      "outputs": [
        {
          "output_type": "execute_result",
          "data": {
            "text/plain": [
              "Win     26\n",
              "Loss    10\n",
              "Name: Result, dtype: int64"
            ]
          },
          "metadata": {
            "tags": []
          },
          "execution_count": 152
        }
      ]
    },
    {
      "cell_type": "code",
      "metadata": {
        "id": "KsfTohaniGc4",
        "colab_type": "code",
        "colab": {}
      },
      "source": [
        "p4 = vill_results['Point For']\n",
        "pa = vill_results['Point Against'] "
      ],
      "execution_count": 0,
      "outputs": []
    },
    {
      "cell_type": "code",
      "metadata": {
        "id": "JcR-B1MVEc6L",
        "colab_type": "code",
        "colab": {
          "base_uri": "https://localhost:8080/",
          "height": 34
        },
        "outputId": "d9c34d27-f3a5-4dcb-ef62-eb981bced003"
      },
      "source": [
        "sum(p4), sum(pa)"
      ],
      "execution_count": 154,
      "outputs": [
        {
          "output_type": "execute_result",
          "data": {
            "text/plain": [
              "(2654, 2425)"
            ]
          },
          "metadata": {
            "tags": []
          },
          "execution_count": 154
        }
      ]
    },
    {
      "cell_type": "code",
      "metadata": {
        "id": "ld_LeCzPEm1o",
        "colab_type": "code",
        "colab": {}
      },
      "source": [
        ""
      ],
      "execution_count": 0,
      "outputs": []
    }
  ]
}