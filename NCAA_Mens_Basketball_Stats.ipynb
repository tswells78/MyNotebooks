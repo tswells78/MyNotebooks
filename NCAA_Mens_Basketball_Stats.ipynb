{
  "nbformat": 4,
  "nbformat_minor": 0,
  "metadata": {
    "colab": {
      "name": "NCAA_Mens_Basketball_Stats.ipynb",
      "provenance": [],
      "collapsed_sections": [],
      "include_colab_link": true
    },
    "kernelspec": {
      "name": "python3",
      "display_name": "Python 3"
    }
  },
  "cells": [
    {
      "cell_type": "markdown",
      "metadata": {
        "id": "view-in-github",
        "colab_type": "text"
      },
      "source": [
        "<a href=\"https://colab.research.google.com/github/tswells78/MyNotebooks/blob/master/NCAA_Mens_Basketball_Stats.ipynb\" target=\"_parent\"><img src=\"https://colab.research.google.com/assets/colab-badge.svg\" alt=\"Open In Colab\"/></a>"
      ]
    },
    {
      "cell_type": "code",
      "metadata": {
        "id": "MqyH7ggzcQux",
        "colab_type": "code",
        "colab": {}
      },
      "source": [
        "import pandas as pd\n",
        "try:\n",
        "  from sportsreference.ncaab.teams import Teams\n",
        "except ModuleNotFoundError:\n",
        "  !pip install sportsreference\n",
        "  from sportsreference.ncaab.teams import Teams\n",
        "from sklearn.ensemble import RandomForestRegressor\n",
        "from sklearn.model_selection import train_test_split"
      ],
      "execution_count": 0,
      "outputs": []
    },
    {
      "cell_type": "code",
      "metadata": {
        "id": "XM5VJfhBUV0z",
        "colab_type": "code",
        "colab": {}
      },
      "source": [
        "teams = Teams()"
      ],
      "execution_count": 0,
      "outputs": []
    },
    {
      "cell_type": "code",
      "metadata": {
        "id": "sf9JLpBmZunl",
        "colab_type": "code",
        "colab": {}
      },
      "source": [
        "team_by_offensive_rating = []"
      ],
      "execution_count": 0,
      "outputs": []
    },
    {
      "cell_type": "code",
      "metadata": {
        "id": "AZu8-laoZ9C4",
        "colab_type": "code",
        "colab": {}
      },
      "source": [
        "for t in teams:\n",
        "  team_by_offensive_rating.append((t.name, t.offensive_rating, t.wins))"
      ],
      "execution_count": 0,
      "outputs": []
    },
    {
      "cell_type": "code",
      "metadata": {
        "id": "9Wu9OlojeF3q",
        "colab_type": "code",
        "colab": {}
      },
      "source": [
        "team_by_offensive_rating = sorted(team_by_offensive_rating,  key=lambda x: x[1], reverse=True)"
      ],
      "execution_count": 0,
      "outputs": []
    },
    {
      "cell_type": "code",
      "metadata": {
        "id": "MTLZCoysercd",
        "colab_type": "code",
        "colab": {}
      },
      "source": [
        "top_68_teams = team_by_offensive_rating[0:68]"
      ],
      "execution_count": 0,
      "outputs": []
    },
    {
      "cell_type": "code",
      "metadata": {
        "id": "LsLYoho6erfK",
        "colab_type": "code",
        "outputId": "64140195-0016-41a7-ae08-b06ecd5be604",
        "colab": {
          "base_uri": "https://localhost:8080/",
          "height": 187
        }
      },
      "source": [
        "top_68_teams[0:10]"
      ],
      "execution_count": 7,
      "outputs": [
        {
          "output_type": "execute_result",
          "data": {
            "text/plain": [
              "[('Gonzaga', 119.3),\n",
              " ('Dayton', 119.2),\n",
              " (\"Saint Mary's (CA)\", 117.6),\n",
              " ('Ohio State', 116.7),\n",
              " ('Arizona', 115.0),\n",
              " ('Northern Iowa', 114.9),\n",
              " ('San Francisco', 114.4),\n",
              " ('Liberty', 114.1),\n",
              " ('San Diego State', 114.1),\n",
              " ('Louisville', 113.7)]"
            ]
          },
          "metadata": {
            "tags": []
          },
          "execution_count": 7
        }
      ]
    },
    {
      "cell_type": "code",
      "metadata": {
        "id": "U9e2ReN4m33E",
        "colab_type": "code",
        "colab": {}
      },
      "source": [
        ""
      ],
      "execution_count": 0,
      "outputs": []
    }
  ]
}