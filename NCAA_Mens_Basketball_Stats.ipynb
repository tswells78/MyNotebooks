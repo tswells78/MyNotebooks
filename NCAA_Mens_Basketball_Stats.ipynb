{
  "nbformat": 4,
  "nbformat_minor": 0,
  "metadata": {
    "colab": {
      "name": "NCAA_Mens_Basketball_Stats.ipynb",
      "provenance": [],
      "collapsed_sections": [],
      "include_colab_link": true
    },
    "kernelspec": {
      "name": "python3",
      "display_name": "Python 3"
    }
  },
  "cells": [
    {
      "cell_type": "markdown",
      "metadata": {
        "id": "view-in-github",
        "colab_type": "text"
      },
      "source": [
        "<a href=\"https://colab.research.google.com/github/tswells78/MyNotebooks/blob/master/NCAA_Mens_Basketball_Stats.ipynb\" target=\"_parent\"><img src=\"https://colab.research.google.com/assets/colab-badge.svg\" alt=\"Open In Colab\"/></a>"
      ]
    },
    {
      "cell_type": "code",
      "metadata": {
        "id": "MqyH7ggzcQux",
        "colab_type": "code",
        "colab": {}
      },
      "source": [
        "import pandas as pd\n",
        "try:\n",
        "  from sportsreference.ncaab.teams import Teams\n",
        "except ModuleNotFoundError:\n",
        "  !pip install sportsreference\n",
        "  from sportsreference.ncaab.teams import Teams\n",
        "from sklearn.ensemble import RandomForestRegressor\n",
        "from sklearn.model_selection import train_test_split"
      ],
      "execution_count": 0,
      "outputs": []
    },
    {
      "cell_type": "code",
      "metadata": {
        "id": "XM5VJfhBUV0z",
        "colab_type": "code",
        "colab": {}
      },
      "source": [
        "FIELDS_TO_DROP = ['away_points', 'home_points', 'date', 'location',\n",
        "                  'losing_abbr', 'losing_name', 'winner', 'winning_abbr',\n",
        "                  'winning_name', 'home_ranking', 'away_ranking']\n",
        "\n",
        "dataset = pd.DataFrame()\n",
        "teams = Teams()"
      ],
      "execution_count": 0,
      "outputs": []
    },
    {
      "cell_type": "code",
      "metadata": {
        "id": "sf9JLpBmZunl",
        "colab_type": "code",
        "colab": {}
      },
      "source": [
        "team_by_offensive_rating = []"
      ],
      "execution_count": 0,
      "outputs": []
    },
    {
      "cell_type": "code",
      "metadata": {
        "id": "AZu8-laoZ9C4",
        "colab_type": "code",
        "colab": {}
      },
      "source": [
        "for t in teams:\n",
        "  team_by_offensive_rating.append((t.name, t.offensive_rating))"
      ],
      "execution_count": 0,
      "outputs": []
    },
    {
      "cell_type": "code",
      "metadata": {
        "id": "9Wu9OlojeF3q",
        "colab_type": "code",
        "colab": {}
      },
      "source": [
        "team_by_offensive_rating = sorted(team_by_offensive_rating,  key=lambda x: x[1], reverse=True)"
      ],
      "execution_count": 0,
      "outputs": []
    },
    {
      "cell_type": "code",
      "metadata": {
        "id": "MTLZCoysercd",
        "colab_type": "code",
        "colab": {}
      },
      "source": [
        "top_50_teams = team_by_offensive_rating[0:50]"
      ],
      "execution_count": 0,
      "outputs": []
    },
    {
      "cell_type": "code",
      "metadata": {
        "id": "LsLYoho6erfK",
        "colab_type": "code",
        "colab": {
          "base_uri": "https://localhost:8080/",
          "height": 867
        },
        "outputId": "fb1de3e2-d96b-472e-98e3-1592c130bfbc"
      },
      "source": [
        "top_50_teams"
      ],
      "execution_count": 12,
      "outputs": [
        {
          "output_type": "execute_result",
          "data": {
            "text/plain": [
              "[('Gonzaga', 119.3),\n",
              " ('Dayton', 119.2),\n",
              " (\"Saint Mary's (CA)\", 117.6),\n",
              " ('Ohio State', 116.7),\n",
              " ('Arizona', 115.0),\n",
              " ('Northern Iowa', 114.9),\n",
              " ('San Francisco', 114.4),\n",
              " ('Liberty', 114.1),\n",
              " ('San Diego State', 114.1),\n",
              " ('Louisville', 113.7),\n",
              " ('Wofford', 113.7),\n",
              " ('McNeese State', 113.6),\n",
              " ('Oregon', 113.6),\n",
              " ('East Tennessee State', 113.5),\n",
              " ('Villanova', 113.5),\n",
              " ('Houston', 113.3),\n",
              " ('Kansas', 113.2),\n",
              " ('Indiana', 112.7),\n",
              " ('Duke', 112.5),\n",
              " ('Central Michigan', 112.2),\n",
              " ('Eastern Washington', 112.2),\n",
              " ('Northern Colorado', 112.2),\n",
              " ('Furman', 111.8),\n",
              " ('Michigan State', 111.8),\n",
              " ('Southern Methodist', 111.8),\n",
              " ('Auburn', 111.7),\n",
              " ('California Baptist', 111.6),\n",
              " ('Oregon State', 111.6),\n",
              " ('Air Force', 111.5),\n",
              " ('Iowa', 111.4),\n",
              " ('Kent State', 111.3),\n",
              " ('North Carolina State', 111.2),\n",
              " ('Utah State', 111.1),\n",
              " ('Louisiana State', 111.0),\n",
              " ('Coastal Carolina', 110.7),\n",
              " ('UC-Santa Barbara', 110.5),\n",
              " ('Michigan', 110.4),\n",
              " ('Richmond', 110.4),\n",
              " ('Utah', 110.2),\n",
              " ('Vanderbilt', 110.2),\n",
              " ('Brigham Young', 109.9),\n",
              " ('Toledo', 109.8),\n",
              " ('Georgetown', 109.7),\n",
              " ('Illinois', 109.7),\n",
              " ('Louisiana Tech', 109.7),\n",
              " ('New Mexico', 109.7),\n",
              " ('Western Kentucky', 109.7),\n",
              " ('Mississippi State', 109.6),\n",
              " ('Baylor', 109.4),\n",
              " ('North Carolina-Asheville', 109.4)]"
            ]
          },
          "metadata": {
            "tags": []
          },
          "execution_count": 12
        }
      ]
    },
    {
      "cell_type": "code",
      "metadata": {
        "id": "U9e2ReN4m33E",
        "colab_type": "code",
        "colab": {}
      },
      "source": [
        ""
      ],
      "execution_count": 0,
      "outputs": []
    }
  ]
}