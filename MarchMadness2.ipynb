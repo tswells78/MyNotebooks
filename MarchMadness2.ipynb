{
  "nbformat": 4,
  "nbformat_minor": 0,
  "metadata": {
    "colab": {
      "name": "MarchMadness2.ipynb",
      "provenance": [],
      "collapsed_sections": [],
      "include_colab_link": true
    },
    "kernelspec": {
      "name": "python3",
      "display_name": "Python 3"
    }
  },
  "cells": [
    {
      "cell_type": "markdown",
      "metadata": {
        "id": "view-in-github",
        "colab_type": "text"
      },
      "source": [
        "<a href=\"https://colab.research.google.com/github/tswells78/MyNotebooks/blob/master/MarchMadness2.ipynb\" target=\"_parent\"><img src=\"https://colab.research.google.com/assets/colab-badge.svg\" alt=\"Open In Colab\"/></a>"
      ]
    },
    {
      "cell_type": "code",
      "metadata": {
        "id": "MqyH7ggzcQux",
        "colab_type": "code",
        "colab": {}
      },
      "source": [
        "import pandas as pd\n",
        "try:\n",
        "  from sportsreference.ncaab.teams import Teams\n",
        "except ModuleNotFoundError:\n",
        "  !pip install sportsreference\n",
        "  from sportsreference.ncaab.teams import Teams\n",
        "from sklearn.ensemble import RandomForestRegressor\n",
        "from sklearn.model_selection import train_test_split\n",
        "\n",
        "FIELDS_TO_DROP = ['away_points', 'home_points', 'date', 'location',\n",
        "                  'losing_abbr', 'losing_name', 'winner', 'winning_abbr',\n",
        "                  'winning_name', 'home_ranking', 'away_ranking']\n",
        "\n",
        "dataset = pd.DataFrame()\n",
        "teams = Teams()\n",
        "count = 0"
      ],
      "execution_count": 0,
      "outputs": []
    },
    {
      "cell_type": "code",
      "metadata": {
        "id": "KocnFwxqOUAe",
        "colab_type": "code",
        "colab": {}
      },
      "source": [
        "  for team in teams:\n",
        "      count += 1\n",
        "      if count == 5:\n",
        "        break\n",
        "      else:\n",
        "        dataset = pd.concat([dataset, team.schedule.dataframe_extended])"
      ],
      "execution_count": 0,
      "outputs": []
    },
    {
      "cell_type": "code",
      "metadata": {
        "id": "7ccLOgizOWTT",
        "colab_type": "code",
        "colab": {}
      },
      "source": [
        "X = dataset.drop(FIELDS_TO_DROP, 1).dropna().drop_duplicates()\n",
        "y = dataset[['home_points', 'away_points']].values\n",
        "X_train, X_test, y_train, y_test = train_test_split(X, y)\n",
        "parameters = {'bootstrap': False,\n",
        "              'min_samples_leaf': 3,\n",
        "              'n_estimators': 50,\n",
        "              'min_samples_split': 10,\n",
        "              'max_features': 'sqrt',\n",
        "              'max_depth': 6}"
      ],
      "execution_count": 0,
      "outputs": []
    },
    {
      "cell_type": "code",
      "metadata": {
        "id": "qCW0Q_wVOaMS",
        "colab_type": "code",
        "colab": {}
      },
      "source": [
        "model = RandomForestRegressor(**parameters)\n",
        "model.fit(X_train, y_train)\n",
        "print(model.predict(X_test).astype(int), y_test)"
      ],
      "execution_count": 0,
      "outputs": []
    }
  ]
}