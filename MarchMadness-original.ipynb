{
  "nbformat": 4,
  "nbformat_minor": 0,
  "metadata": {
    "colab": {
      "name": "MarchMadness.ipynb",
      "provenance": [],
      "collapsed_sections": []
    },
    "kernelspec": {
      "name": "python3",
      "display_name": "Python 3"
    }
  },
  "cells": [
    {
      "cell_type": "code",
      "metadata": {
        "id": "MqyH7ggzcQux",
        "colab_type": "code",
        "colab": {}
      },
      "source": [
        "import pandas as pd\n",
        "try:\n",
        "  from sportsreference.ncaab.teams import Teams\n",
        "except ModuleNotFoundError:\n",
        "  !pip install sportsreference\n",
        "  from sportsreference.ncaab.teams import Teams\n",
        "from sklearn.ensemble import RandomForestRegressor\n",
        "from sklearn.model_selection import train_test_split\n",
        "\n",
        "FIELDS_TO_DROP = ['away_points', 'home_points', 'date', 'location',\n",
        "                  'losing_abbr', 'losing_name', 'winner', 'winning_abbr',\n",
        "                  'winning_name', 'home_ranking', 'away_ranking']\n",
        "\n",
        "dataset = pd.DataFrame()\n",
        "teams = Teams()\n",
        "print(teams)\n"
      ],
      "execution_count": 0,
      "outputs": []
    },
    {
      "cell_type": "code",
      "metadata": {
        "id": "DOEk6TbkMwjL",
        "colab_type": "code",
        "colab": {
          "base_uri": "https://localhost:8080/",
          "height": 833
        },
        "outputId": "a1f2a8db-c949-49d6-d624-62870b686371"
      },
      "source": [
        "for team in teams:\n",
        "    dataset = pd.concat([dataset, team.schedule.dataframe_extended])"
      ],
      "execution_count": 4,
      "outputs": [
      ]
    },
    {
      "cell_type": "code",
      "metadata": {
        "id": "I2Zo7W6OK-_J",
        "colab_type": "code",
        "colab": {}
      },
      "source": [
        "X = dataset.drop(FIELDS_TO_DROP, 1).dropna().drop_duplicates()\n",
        "y = dataset[['home_points', 'away_points']].values\n",
        "X_train, X_test, y_train, y_test = train_test_split(X, y)"
      ],
      "execution_count": 0,
      "outputs": []
    },
    {
      "cell_type": "code",
      "metadata": {
        "id": "mmmO4fvsM30b",
        "colab_type": "code",
        "colab": {}
      },
      "source": [
        "parameters = {'bootstrap': False,\n",
        "              'min_samples_leaf': 3,\n",
        "              'n_estimators': 50,\n",
        "              'min_samples_split': 10,\n",
        "              'max_features': 'sqrt',\n",
        "              'max_depth': 6}\n",
        "model = RandomForestRegressor(**parameters)\n",
        "model.fit(X_train, y_train)\n",
        "print(model.predict(X_test).astype(int), y_test)"
      ],
      "execution_count": 0,
      "outputs": []
    }
  ]
}
